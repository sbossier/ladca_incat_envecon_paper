{
 "cells": [
  {
   "cell_type": "markdown",
   "metadata": {},
   "source": [
    "# LADCA-INCAT-ENVECON: Regression Analysis"
   ]
  },
  {
   "cell_type": "markdown",
   "metadata": {},
   "source": [
    "## Table of Contents <a class=\"anchor\" id=\"top\"></a>\n",
    "[1. Import Used Packages and Functions](#section_1)<br>\n",
    "[2. Data Loading and Cleaning](#section_2)<br>\n",
    "&nbsp;&nbsp;&nbsp;&nbsp;[2.1 Data Loading](#section_2_1)<br>\n",
    "[3. Data Exploration](#section_3)<br>\n",
    "&nbsp;&nbsp;&nbsp;&nbsp;[3.1 Feature Information](#section_3_1)<br>\n",
    "&nbsp;&nbsp;&nbsp;&nbsp;[3.2 Feature Renaming and Dropping](#section_3_2)<br>\n",
    "&nbsp;&nbsp;&nbsp;&nbsp;[3.3 *activity* and *animal_ID* Feature Visualisation](#section_3_3)<br>\n",
    "&nbsp;&nbsp;&nbsp;&nbsp;[3.4 Missing Data Visualisation](#section_3_4)<br>\n",
    "[4. Data Pre-processing](#section_4)<br>\n",
    "&nbsp;&nbsp;&nbsp;&nbsp;[4.1 Train-Test Split Preparation](#section_4_1)<br>\n",
    "&nbsp;&nbsp;&nbsp;&nbsp;[4.2 Train-Test Split](#section_4_2)<br>\n",
    "&nbsp;&nbsp;&nbsp;&nbsp;[4.3 Missing Data Imputation](#section_4_3)<br>\n",
    "&nbsp;&nbsp;&nbsp;&nbsp;[4.4 Outlier Detection and Removal](#section_4_4)<br>\n",
    "&nbsp;&nbsp;&nbsp;&nbsp;[4.5 Novelty Detection and Removal](#section_4_5)<br>\n",
    "&nbsp;&nbsp;&nbsp;&nbsp;[4.6 Majority Undersampling](#section_4_6)<br>\n",
    "&nbsp;&nbsp;&nbsp;&nbsp;[4.7 Minority Oversampling](#section_4_7)<br>\n",
    "[5. Data Fitting](#section_5)<br>\n",
    "&nbsp;&nbsp;&nbsp;&nbsp;[5.1 Support Vector Machine Classification](#section_5_1)<br>\n",
    "&nbsp;&nbsp;&nbsp;&nbsp;[5.2 Random Forest Classification](#section_5_2)<br>\n",
    "&nbsp;&nbsp;&nbsp;&nbsp;[5.3 Quadratic Discriminant Analysis Classification](#section_5_3)<br>\n",
    "&nbsp;&nbsp;&nbsp;&nbsp;[5.4 k-Nearest Neigbours Classification](#section_5_4)<br>\n",
    "[6. Dimensionality Reduction](#section_6)<br>\n",
    "&nbsp;&nbsp;&nbsp;&nbsp;[6.1 Principal Component Analysis (Linear Feature Extraction, Unsupervised)](#section_6_1)<br>\n",
    "&nbsp;&nbsp;&nbsp;&nbsp;[6.2 Linear Discriminant Analysis (Linear Feature Extraction, Supervised)](#section_6_2)<br>\n",
    "&nbsp;&nbsp;&nbsp;&nbsp;[6.3 Locally Linear Embedding (Non-Linear Feature Extraction, Unspervised)](#section_6_3)<br>"
   ]
  },
  {
   "cell_type": "markdown",
   "metadata": {},
   "source": [
    "<h2 style=\"display: inline\"> 1. Import Used Packages and Functions </h2> <span style=\"float: right\"><a href=\"#top\">[back to top]</a></span> <a class=\"anchor\" id=\"section_1\"></a>"
   ]
  },
  {
   "cell_type": "code",
   "execution_count": 5,
   "metadata": {},
   "outputs": [],
   "source": [
    "import numpy as np\n",
    "import pandas as pd\n",
    "import matplotlib.pyplot as plt\n",
    "import seaborn as sns\n",
    "import os"
   ]
  },
  {
   "cell_type": "markdown",
   "metadata": {},
   "source": [
    "<h2 style=\"display: inline\"> 2. Data Loading and Cleaning </h2> <span style=\"float: right\"><a href=\"#top\">[back to top]</a></span> <a class=\"anchor\" id=\"section_2\"></a>"
   ]
  },
  {
   "cell_type": "markdown",
   "metadata": {},
   "source": [
    "<h2 style=\"display: inline\"> 2.1 Data Loading </h2> <span style=\"float: right\"><a href=\"#top\">[back to top]</a></span> <a class=\"anchor\" id=\"section_2_1\"></a> "
   ]
  },
  {
   "cell_type": "code",
   "execution_count": 6,
   "metadata": {},
   "outputs": [],
   "source": [
    "# set the folder\n",
    "folder_path = r'N:\\FWET\\FDCH\\AdsCatal\\General\\personal_work_folders\\plasmacatdesign\\drm\\ugent'\n",
    "\n",
    "# set the reaction data file name and path\n",
    "file_path_reaction = os.path.join(\n",
    "    folder_path,\n",
    "    'ugent_drm_reaction_data_combined.parquet'\n",
    ")\n",
    "\n",
    "# read the reaction data file\n",
    "df_reaction = pd.read_parquet(file_path_reaction)\n",
    "\n",
    "# set the electrical data file name and path\n",
    "file_path_electrical = os.path.join(\n",
    "    folder_path,\n",
    "    'ugent_drm_electrical_data_combined.parquet'\n",
    ")\n",
    "\n",
    "# read the electrical data file\n",
    "df_electrical = pd.read_parquet(file_path_electrical)"
   ]
  },
  {
   "cell_type": "markdown",
   "metadata": {},
   "source": [
    "<h2 style=\"display: inline\"> 2.2 Data Filtering </h2> <span style=\"float: right\"><a href=\"#top\">[back to top]</a></span> <a class=\"anchor\" id=\"section_2_2\"></a> "
   ]
  },
  {
   "cell_type": "code",
   "execution_count": 7,
   "metadata": {},
   "outputs": [],
   "source": [
    "# Preparing the reaction data\n",
    "\n",
    "# Subset the data by selecting the rows in which res_time_sec\n",
    "# is between 10 and 70 (inclusive)\n",
    "df_reaction = df_reaction[\n",
    "    (df_reaction['res_time_sec'] >= 10) &\n",
    "    (df_reaction['res_time_sec'] <= 70)\n",
    "].reset_index(drop=True)\n",
    "\n",
    "# Substitue the values in the column 'material' with custom values\n",
    "df_reaction['material'] = df_reaction['material'].map(\n",
    "    {\n",
    "        'SASOL 1.8': 'γ-Al₂O₃',\n",
    "        '2% Cu(II)(NO3)2 @ SASOL 1.8': '2% CuO@γ-Al₂O₃',\n",
    "        '10% Cu(II)(NO3)2 @ SASOL 1.8': '10% CuO@γ-Al₂O₃',\n",
    "        '2% Fe(III)Citrate @ SASOL 1.8': '2% Fe₂O₃@γ-Al₂O₃',\n",
    "        '10% Fe(III)Citrate @ SASOL 1.8': '10% Fe₂O₃@γ-Al₂O₃'\n",
    "    }\n",
    ")\n",
    "\n",
    "# Preparing the electrical data\n",
    "\n",
    "# subset the data\n",
    "df_electrical = df_electrical[\n",
    "    (df_electrical['residence_time_s'] >= 10) &\n",
    "    (df_electrical['residence_time_s'] <= 70) &\n",
    "    (df_electrical['plasma_state'] == 'plasma')\n",
    "].reset_index(drop=True)\n",
    "\n",
    "df_electrical['material_name'] = df_electrical['material_name'].map(\n",
    "    {\n",
    "        'sasol-1.8-c450': 'γ-Al₂O₃',\n",
    "        'sasol-1.8-cuo-02%': '2% CuO@γ-Al₂O₃',\n",
    "        'sasol-1.8-cuo-10%': '10% CuO@γ-Al₂O₃',\n",
    "        'sasol-1.8-fe2o3-02%': '2% Fe₂O₃@γ-Al₂O₃',\n",
    "        'sasol-1.8-fe2o3-10%': '10% Fe₂O₃@γ-Al₂O₃'\n",
    "    }\n",
    ")\n",
    "\n",
    "df_electrical = df_electrical[\n",
    "    df_electrical.groupby(['material_name', 'residence_time_s'])['measurement_number'].transform(\"max\") == df_electrical['measurement_number']\n",
    "].drop(columns=[\"measurement_number\"]).reset_index(drop=True)\n",
    "\n",
    "# rename some columns in the df_reaction dataframe\n",
    "df_reaction.rename(\n",
    "    columns={\n",
    "        'material': 'material_name',\n",
    "        'res_time_sec': 'residence_time_s'\n",
    "    },\n",
    "    inplace=True\n",
    ")"
   ]
  },
  {
   "cell_type": "markdown",
   "metadata": {},
   "source": [
    "<h2 style=\"display: inline\"> 2.3 Data Merging </h2> <span style=\"float: right\"><a href=\"#top\">[back to top]</a></span> <a class=\"anchor\" id=\"section_2_3\"></a> "
   ]
  },
  {
   "cell_type": "code",
   "execution_count": null,
   "metadata": {},
   "outputs": [],
   "source": [
    "# merge the reaction and electrical dataframes\n",
    "df_combined = pd.merge(\n",
    "    df_reaction,\n",
    "    df_electrical,\n",
    "    on=['material_name', 'residence_time_s']\n",
    ").assign(\n",
    "    sei_ideal_kjmol=lambda x: round(\n",
    "        number=30/((1-0.4687)*(17.31/x['residence_time_s']))*24.055,\n",
    "        ndigits=-1\n",
    "    ).astype(int),\n",
    "    compound=lambda x: x['compound'].map(\n",
    "        {\n",
    "            'CO2': 'CO₂',\n",
    "            'H2': 'H₂',\n",
    "            'CO': 'CO',\n",
    "            'O2': 'O₂',\n",
    "            'CH4': 'CH₄',\n",
    "            'C2H6': 'C₂H₆',\n",
    "            'C2H4': 'C₂H₄',\n",
    "            'C2H2': 'C₂H₂',\n",
    "            'C3H8': 'C₃H₈',\n",
    "            'CH3OH': 'CH₃OH',\n",
    "            'C2H5OH': 'C₂H₅OH',\n",
    "            'CH3OCH3': 'CH₃OCH₃',\n",
    "            'Total' : 'Total'\n",
    "        }\n",
    "    )\n",
    ").reset_index(drop=True)\n",
    "\n",
    "print(df_combined.columns)"
   ]
  },
  {
   "cell_type": "markdown",
   "metadata": {},
   "source": []
  }
 ],
 "metadata": {
  "kernelspec": {
   "display_name": "Python 3",
   "language": "python",
   "name": "python3"
  },
  "language_info": {
   "codemirror_mode": {
    "name": "ipython",
    "version": 3
   },
   "file_extension": ".py",
   "mimetype": "text/x-python",
   "name": "python",
   "nbconvert_exporter": "python",
   "pygments_lexer": "ipython3",
   "version": "3.12.2"
  }
 },
 "nbformat": 4,
 "nbformat_minor": 2
}
